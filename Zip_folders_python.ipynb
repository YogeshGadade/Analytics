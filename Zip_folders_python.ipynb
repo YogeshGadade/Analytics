{
 "cells": [
  {
   "cell_type": "markdown",
   "metadata": {},
   "source": [
    "# Goal to create a zip file of Folder containing files and data\n",
    "\n",
    "STEPS IMPLEMENTED:\n",
    "1. Create a Zip file of a folder and save the zip file in the current working directory \n",
    "- (current working directoy: folder where Jupyter notebook code is present/running currently)\n",
    "- Output: Zip Complete folder containing Data files"
   ]
  },
  {
   "cell_type": "code",
   "execution_count": null,
   "metadata": {
    "collapsed": true
   },
   "outputs": [],
   "source": [
    "import shutil # Not needed to install seperately"
   ]
  },
  {
   "cell_type": "code",
   "execution_count": null,
   "metadata": {},
   "outputs": [],
   "source": [
    "import subprocess   # Not needed to install seperately\n",
    "\n",
    "CurrentDirectoryPath = subprocess.getoutput(\"pwd\")  #Get current directory path by running command line and storing its \n",
    "#output in CurrentDirectoryPath\n",
    "# My code file is running on this path/directory. And file/folder/directory containing data that I want to zip is also \n",
    "#present in the same CurrentDirectoryPath"
   ]
  },
  {
   "cell_type": "code",
   "execution_count": null,
   "metadata": {},
   "outputs": [],
   "source": [
    "import glob # check the files present in the source file\n",
    "glob.glob(CurrentDirectoryPath+\"/DataFolder/*\")  #Source file is DataFolder where data is present."
   ]
  },
  {
   "cell_type": "markdown",
   "metadata": {},
   "source": [
    "# zip data in a folder"
   ]
  },
  {
   "cell_type": "code",
   "execution_count": null,
   "metadata": {},
   "outputs": [],
   "source": [
    "zip_name = CurrentDirectoryPath + \"/DataFolder/\"    #Provide path to the folder to zip\n",
    "directory_name = CurrentDirectoryPath + \"/DataFolder/\" \n",
    "\n",
    "# Create 'path\\to\\zip_file.zip'\n",
    "shutil.make_archive(zip_name, 'zip', directory_name)  # It will print the location of saved zip file for that folder"
   ]
  },
  {
   "cell_type": "markdown",
   "metadata": {},
   "source": [
    "# About shutil.make_archive\n",
    "shutil.make_archive(base_name, format[, root_dir[, base_dir[, verbose[, dry_run[, owner[, group[, logger]]]]]]])\n",
    "\n",
    "- Create an archive file (such as zip or tar) and return its name.\n",
    "\n",
    "- base_name is the name of the file to create, including the path, minus any format-specific extension. format is the archive format: one of “zip” (if the zlib module is available), “tar”, “gztar” (if the zlib module is available), “bztar” (if the bz2 module is available), or “xztar” (if the lzma module is available).\n",
    "\n",
    "- root_dir is a directory that will be the root directory of the archive; for example, we typically chdir into root_dir before creating the archive.\n",
    "\n",
    "- base_dir is the directory where we start archiving from; i.e. base_dir will be the common prefix of all files and directories in the archive.\n",
    "\n",
    "- root_dir and base_dir both default to the current directory.\n",
    "\n",
    "- If dry_run is true, no archive is created, but the operations that would be executed are logged to logger.\n",
    "\n",
    "- owner and group are used when creating a tar archive. By default, uses the current owner and group.\n",
    "\n",
    "- logger must be an object compatible with PEP 282, usually an instance of logging.Logger.\n",
    "\n",
    "- The verbose argument is unused and deprecated.\n",
    "\n",
    "Source: https://docs.python.org/3/library/shutil.html"
   ]
  }
 ],
 "metadata": {
  "kernelspec": {
   "display_name": "Adhar",
   "language": "python",
   "name": "adhar"
  },
  "language_info": {
   "codemirror_mode": {
    "name": "ipython",
    "version": 3
   },
   "file_extension": ".py",
   "mimetype": "text/x-python",
   "name": "python",
   "nbconvert_exporter": "python",
   "pygments_lexer": "ipython3",
   "version": "3.6.3"
  }
 },
 "nbformat": 4,
 "nbformat_minor": 2
}
