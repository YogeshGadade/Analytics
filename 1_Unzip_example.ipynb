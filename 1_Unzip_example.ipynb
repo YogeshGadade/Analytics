{
 "cells": [
  {
   "cell_type": "markdown",
   "metadata": {},
   "source": [
    "# goal: Unzip the input files using Python\n",
    "\n",
    "### Steps explained:\n",
    "1. Installation of library pyunpack\n",
    "2. Demonstration in Python by unzipping a zip file\n",
    "\n",
    "\n",
    "- input: zip file\n"
   ]
  },
  {
   "cell_type": "markdown",
   "metadata": {},
   "source": [
    "# Installing pyunpack from Jupyter notebook"
   ]
  },
  {
   "cell_type": "code",
   "execution_count": null,
   "metadata": {
    "collapsed": true
   },
   "outputs": [],
   "source": [
    "!pip install pyunpack    #install the library"
   ]
  },
  {
   "cell_type": "code",
   "execution_count": 2,
   "metadata": {
    "collapsed": true
   },
   "outputs": [],
   "source": [
    "import pyunpack"
   ]
  },
  {
   "cell_type": "code",
   "execution_count": 3,
   "metadata": {},
   "outputs": [
    {
     "data": {
      "text/plain": [
       "'0.1.2'"
      ]
     },
     "execution_count": 3,
     "metadata": {},
     "output_type": "execute_result"
    }
   ],
   "source": [
    "pyunpack.__version__  # version of the package"
   ]
  },
  {
   "cell_type": "code",
   "execution_count": 4,
   "metadata": {},
   "outputs": [
    {
     "name": "stdout",
     "output_type": "stream",
     "text": [
      "1_Unzip_example.ipynb  DemoImage.zip  Temp\r\n"
     ]
    }
   ],
   "source": [
    "!ls     #list files present in the current directory"
   ]
  },
  {
   "cell_type": "code",
   "execution_count": 5,
   "metadata": {
    "collapsed": true
   },
   "outputs": [],
   "source": [
    "#now we will unzip the DemoImage.zip\n",
    "pyunpack.Archive('DemoImage.zip').extractall('./')"
   ]
  },
  {
   "cell_type": "code",
   "execution_count": 6,
   "metadata": {},
   "outputs": [
    {
     "name": "stdout",
     "output_type": "stream",
     "text": [
      "1_Unzip_example.ipynb  DemoImage.png  DemoImage.zip  Temp\r\n"
     ]
    }
   ],
   "source": [
    "!ls    # we can see it unzipped the file"
   ]
  },
  {
   "cell_type": "code",
   "execution_count": null,
   "metadata": {
    "collapsed": true
   },
   "outputs": [],
   "source": [
    "# Note that some times after installation pyunpack at the time of extraction it shows an error. at that time one can install the patool\n",
    "#using this command:\n",
    "#!pip install patool"
   ]
  }
 ],
 "metadata": {
  "kernelspec": {
   "display_name": "Python3_Keras",
   "language": "python",
   "name": "python3_keras"
  },
  "language_info": {
   "codemirror_mode": {
    "name": "ipython",
    "version": 3
   },
   "file_extension": ".py",
   "mimetype": "text/x-python",
   "name": "python",
   "nbconvert_exporter": "python",
   "pygments_lexer": "ipython3",
   "version": "3.6.3"
  }
 },
 "nbformat": 4,
 "nbformat_minor": 2
}
