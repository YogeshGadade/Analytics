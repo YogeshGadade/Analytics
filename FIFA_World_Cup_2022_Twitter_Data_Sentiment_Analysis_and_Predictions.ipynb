{
  "nbformat": 4,
  "nbformat_minor": 0,
  "metadata": {
    "colab": {
      "private_outputs": true,
      "provenance": [],
      "authorship_tag": "ABX9TyNvS8dYvhnswviAul4cZUWz",
      "include_colab_link": true
    },
    "kernelspec": {
      "name": "python3",
      "display_name": "Python 3"
    },
    "language_info": {
      "name": "python"
    }
  },
  "cells": [
    {
      "cell_type": "markdown",
      "metadata": {
        "id": "view-in-github",
        "colab_type": "text"
      },
      "source": [
        "<a href=\"https://colab.research.google.com/github/YogeshGadade/Analytics/blob/master/FIFA_World_Cup_2022_Twitter_Data_Sentiment_Analysis_and_Predictions.ipynb\" target=\"_parent\"><img src=\"https://colab.research.google.com/assets/colab-badge.svg\" alt=\"Open In Colab\"/></a>"
      ]
    },
    {
      "cell_type": "markdown",
      "source": [
        "\n",
        "\n",
        "### About FIFA 2022: \n",
        "- World Cup 2022 Dates: Nov 20, 2022 – Dec 18, 2022\n",
        "- The FIFA World Cup, a global football sporting event that takes place every four years, was in Qatar.\n",
        "\n",
        "\n",
        "## Problems Addressed:\n",
        "### 1. Sentiment Analysis\n",
        "#### Problem:\n",
        "- The decision to hold the World Cup in Qatar has sparked several controversies, including allegations of corruption and human rights violations.\n",
        "\n",
        "#### Solution: \n",
        "- So, what do football lovers think about the FIFA World Cup 2022? To find out that, I’ll perform a Twitter sentiment analysis using the hashtag #WorldCup2022 on Twitter in this blog post.\n",
        "\n",
        "### 2. Predictions\n",
        "Answering Following Questions:\n",
        "1. Champion Team\n",
        "2. Best Player(s)\n",
        "3. Top Scorer(s) \n",
        "\n",
        "Answering Following Questions: \n",
        "1. Which team has the most wins?\n",
        "2. What is the winning percentage comparing when the highest-ranked team plays against the lowest-ranked team?\n",
        "3. What is the winning percentage comparing when the highest attack rank plays against the lowest attack rank?\n",
        "4. Do teams with stronger offensive scores have more goals?\n",
        "5. Do teams with stronger goalkeepers receive fewer goals?\n",
        "6. Team with the longest win streak?\n",
        "7. Better team win percentage?\n",
        "8. which team has the best goalkeeper, strongest defense, midfield, and offense score?\n",
        "9. Teams with a high win percentage?\n",
        "10. Winner prediction FIFA world cup 2022\n",
        "\n",
        "\n",
        "## Performance of Finals Prediction\n",
        "1. Actual Results Vs Predictions \n"
      ],
      "metadata": {
        "id": "tlPbD0hKAv9T"
      }
    },
    {
      "cell_type": "code",
      "execution_count": null,
      "metadata": {
        "id": "CnPIObnGAlQh"
      },
      "outputs": [],
      "source": []
    }
  ]
}