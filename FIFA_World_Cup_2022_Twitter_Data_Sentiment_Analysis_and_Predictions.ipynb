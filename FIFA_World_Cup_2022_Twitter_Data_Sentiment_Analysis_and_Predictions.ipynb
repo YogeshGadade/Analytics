{
  "nbformat": 4,
  "nbformat_minor": 0,
  "metadata": {
    "colab": {
      "private_outputs": true,
      "provenance": [],
      "authorship_tag": "ABX9TyMp4/RLGt0efoG4Pr9bHWzO",
      "include_colab_link": true
    },
    "kernelspec": {
      "name": "python3",
      "display_name": "Python 3"
    },
    "language_info": {
      "name": "python"
    }
  },
  "cells": [
    {
      "cell_type": "markdown",
      "metadata": {
        "id": "view-in-github",
        "colab_type": "text"
      },
      "source": [
        "<a href=\"https://colab.research.google.com/github/YogeshGadade/Analytics/blob/master/FIFA_World_Cup_2022_Twitter_Data_Sentiment_Analysis_and_Predictions.ipynb\" target=\"_parent\"><img src=\"https://colab.research.google.com/assets/colab-badge.svg\" alt=\"Open In Colab\"/></a>"
      ]
    },
    {
      "cell_type": "markdown",
      "source": [
        "\n",
        "\n",
        "### About FIFA 2022: \n",
        "- World Cup 2022 Dates: Nov 20, 2022 – Dec 18, 2022\n",
        "- The FIFA World Cup, a global football sporting event that takes place every four years, was in Qatar.\n",
        "\n",
        "\n",
        "## Problems Addressed:\n",
        "### 1. Sentiment Analysis\n",
        "#### Problem:\n",
        "- The decision to hold the World Cup in Qatar has sparked several controversies, including allegations of corruption and human rights violations.\n",
        "\n",
        "#### Solution: \n",
        "- So, what do football lovers think about the FIFA World Cup 2022? To find out that, I’ll perform a Twitter sentiment analysis using the hashtag #WorldCup2022 on Twitter in this blog post.\n",
        "\n",
        "### 2. Predictions\n",
        "Answering Following Questions:\n",
        "1. Champion Team\n",
        "2. Best Player(s)\n",
        "3. Top Scorer(s) \n",
        "\n",
        "Answering Following Questions: \n",
        "1. Which team has the most wins?\n",
        "2. What is the winning percentage comparing when the highest-ranked team plays against the lowest-ranked team?\n",
        "3. What is the winning percentage comparing when the highest attack rank plays against the lowest attack rank?\n",
        "4. Do teams with stronger offensive scores have more goals?\n",
        "5. Do teams with stronger goalkeepers receive fewer goals?\n",
        "6. Team with the longest win streak?\n",
        "7. Better team win percentage?\n",
        "8. which team has the best goalkeeper, strongest defense, midfield, and offense score?\n",
        "9. Teams with a high win percentage?\n",
        "10. Winner prediction FIFA world cup 2022\n",
        "\n",
        "\n",
        "## Performance of Finals Prediction\n",
        "1. Actual Results Vs Predictions \n"
      ],
      "metadata": {
        "id": "tlPbD0hKAv9T"
      }
    },
    {
      "cell_type": "code",
      "execution_count": null,
      "metadata": {
        "id": "CnPIObnGAlQh"
      },
      "outputs": [],
      "source": [
        "# Install and scrape with snscrape\n",
        "!pip install snscrape"
      ]
    },
    {
      "cell_type": "code",
      "source": [],
      "metadata": {
        "id": "xMARt8SE4B2P"
      },
      "execution_count": null,
      "outputs": []
    },
    {
      "cell_type": "code",
      "source": [
        "import snscrape.modules.twitter as sntwitter\n",
        "import pandas as pd\n",
        "\n",
        "# Creating a list to append all tweet attributes(data)\n",
        "tweets = []\n",
        "\n",
        "# Creating query\n",
        "query = '#WorldCup2022 lang:en since:2022-11-18 until:2022-11-19'\n",
        "q = sntwitter.TwitterSearchScraper(query)\n",
        "\n",
        "# Using TwitterSearchScraper to scrape data and append tweets to list\n",
        "for i,tweet in enumerate(q.get_items()):\n",
        "    if i > 1000:\n",
        "      break\n",
        "    #if i%1000==0:  # print after every 1000\n",
        "      #break\n",
        "    #  print(i)\n",
        "    tweets.append([tweet.date, tweet.likeCount, tweet.sourceLabel, tweet.content])\n",
        "\n",
        "# Converting data to dataframe\n",
        "tweets_df = pd.DataFrame(tweets, columns=[\"Date Created\", \"Number of Likes\", \"Source of Tweet\", \"Tweet\"])\n",
        "tweets_df.head()"
      ],
      "metadata": {
        "id": "RLbp_ZsDwogf"
      },
      "execution_count": null,
      "outputs": []
    },
    {
      "cell_type": "code",
      "source": [
        "len(tweets_df), tweets_df['Date Created'].min(), tweets_df['Date Created'].max()"
      ],
      "metadata": {
        "id": "0oVtiL0hxE0-"
      },
      "execution_count": null,
      "outputs": []
    },
    {
      "cell_type": "code",
      "source": [
        "#Let's import the model we'll use for Twitter sentiment analysis.\n",
        "!pip install transformers"
      ],
      "metadata": {
        "id": "e1CIFoeczO2-"
      },
      "execution_count": null,
      "outputs": []
    },
    {
      "cell_type": "code",
      "source": [
        "from transformers import pipeline\n",
        "sentiment_analysis = pipeline(model=\"cardiffnlp/twitter-roberta-base-sentiment-latest\")"
      ],
      "metadata": {
        "id": "t19EFQzp7Y1w"
      },
      "execution_count": null,
      "outputs": []
    },
    {
      "cell_type": "code",
      "source": [
        "# Let's find out the sentiment in each tweet with the for loop.\n",
        "# Creating a list to append all tweet attributes(data)\n",
        "tweet_sa = []\n",
        "\n",
        "# Creating query\n",
        "query = '#WorldCup2022 lang:en since:2022-11-20 until:2022-11-21'\n",
        "q = sntwitter.TwitterSearchScraper(query)\n",
        "\n",
        "# Preprocess text (username and link placeholders)\n",
        "def preprocess(text):\n",
        "    new_text = []\n",
        "    for t in text.split(\" \"):\n",
        "        t = '@user' if t.startswith('@') and len(t) > 1 else t\n",
        "        t = 'http' if t.startswith('http') else t\n",
        "        new_text.append(t)\n",
        "    return \" \".join(new_text)\n",
        "\n",
        "# Predicting the sentiments of tweets\n",
        "for i,tweet in enumerate(q.get_items()):\n",
        "    if i>100:\n",
        "        break\n",
        "    content = tweet.content\n",
        "    content = preprocess(content)\n",
        "    sentiment = sentiment_analysis(content)\n",
        "    tweet_sa.append({\"Date Created\": tweet.date, \"Number of Likes\": tweet.likeCount, \n",
        "                     \"Source of Tweet\": tweet.sourceLabel, \"Tweet\": tweet.content, 'Sentiment': sentiment[0]['label']})"
      ],
      "metadata": {
        "id": "5Okgg6gdziKG"
      },
      "execution_count": null,
      "outputs": []
    },
    {
      "cell_type": "code",
      "source": [
        "# Let's convert data into a dataframe.\n",
        "import pandas as pd\n",
        "pd.set_option('max_colwidth', None)\n",
        "\n",
        "# Converting data to dataframe\n",
        "df = pd.DataFrame(tweet_sa)\n",
        "df.head()"
      ],
      "metadata": {
        "id": "5tgGeXzL7y9Y"
      },
      "execution_count": null,
      "outputs": []
    },
    {
      "cell_type": "code",
      "source": [
        "df.tail()"
      ],
      "metadata": {
        "id": "mfy5zgns9Rta"
      },
      "execution_count": null,
      "outputs": []
    },
    {
      "cell_type": "code",
      "source": [
        "# Data Visualization - First, let's count the number of tweets by sentiments.\n",
        "\n",
        "import matplotlib.pyplot as plt\n",
        "\n",
        "sentiment_counts = df.groupby(['Sentiment']).size()\n",
        "print(sentiment_counts)"
      ],
      "metadata": {
        "id": "SIAHmF8D9TfE"
      },
      "execution_count": null,
      "outputs": []
    },
    {
      "cell_type": "code",
      "source": [
        "#Now let's draw a pie plot for the sentiments.\n",
        "# Let's visualize the sentiments\n",
        "fig = plt.figure(figsize=(6,6), dpi=100)\n",
        "ax = plt.subplot()\n",
        "sentiment_counts.plot.pie(ax=ax, autopct='%1.1f%%', startangle=270, fontsize=12, label=\"\")"
      ],
      "metadata": {
        "id": "DVfT7Bgw90eH"
      },
      "execution_count": null,
      "outputs": []
    },
    {
      "cell_type": "code",
      "source": [
        "# Creating a world cloud with positive tweets.  "
      ],
      "metadata": {
        "id": "nMl96GUt97ug"
      },
      "execution_count": null,
      "outputs": []
    },
    {
      "cell_type": "code",
      "source": [
        "from wordcloud import WordCloud\n",
        "from wordcloud import STOPWORDS\n",
        "\n",
        "# Wordcloud with positive tweets\n",
        "positive_tweets = df['Tweet'][df[\"Sentiment\"] == 'positive']\n",
        "stop_words = [\"https\", \"co\", \"RT\", \"WorldCup2022\"] + list(STOPWORDS)\n",
        "positive_wordcloud = WordCloud(width=800, height=400, background_color=\"black\", stopwords = stop_words).generate(str(positive_tweets))\n",
        "plt.figure(figsize=[20,10])\n",
        "plt.title(\"Positive Tweets - Wordcloud\")\n",
        "plt.imshow(positive_wordcloud, interpolation=\"bilinear\")\n",
        "plt.axis(\"off\")\n",
        "plt.show()"
      ],
      "metadata": {
        "id": "s5ZzpfLp-DTa"
      },
      "execution_count": null,
      "outputs": []
    },
    {
      "cell_type": "code",
      "source": [
        "# Next, let's create a world cloud with negative tweets.\n",
        "\n",
        "# Wordcloud with negative tweets\n",
        "negative_tweets = df['Tweet'][df[\"Sentiment\"] == 'negative']\n",
        "stop_words = [\"https\", \"co\", \"RT\", \"WorldCup2022\"] + list(STOPWORDS)\n",
        "negative_wordcloud = WordCloud(width=800, height=400, background_color=\"black\", stopwords = stop_words).generate(str(negative_tweets))\n",
        "plt.figure(figsize=[20,10])\n",
        "plt.title(\"Negative Tweets - Wordcloud\")\n",
        "plt.imshow(negative_wordcloud, interpolation=\"bilinear\")\n",
        "plt.axis(\"off\")\n",
        "plt.show()"
      ],
      "metadata": {
        "id": "17o2jR89-gVt"
      },
      "execution_count": null,
      "outputs": []
    }
  ]
}