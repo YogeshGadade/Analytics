{
 "cells": [
  {
   "cell_type": "markdown",
   "metadata": {},
   "source": [
    "# Goal: Install and use MySQL connector API using Python\n",
    "\n",
    "#### STEPS IMPLEMENTED: \n",
    "1. Installation of MySQL Connector API\n",
    "2. Using the MySQL Connector Access the Data\n",
    "\n",
    "For this implementation I am using following System:\n",
    "    1. Ubuntu 18.0\n",
    "    2. Anaconda Jupyter notebook (Python 3.6.3 :: Anaconda, Inc.)"
   ]
  },
  {
   "cell_type": "markdown",
   "metadata": {},
   "source": [
    "# Install MySQL connector:"
   ]
  },
  {
   "cell_type": "code",
   "execution_count": 1,
   "metadata": {},
   "outputs": [
    {
     "name": "stdout",
     "output_type": "stream",
     "text": [
      "Python 3.6.3 :: Anaconda, Inc.\r\n"
     ]
    }
   ],
   "source": [
    "!python --version"
   ]
  },
  {
   "cell_type": "code",
   "execution_count": 1,
   "metadata": {},
   "outputs": [
    {
     "name": "stdout",
     "output_type": "stream",
     "text": [
      "Collecting pip\n",
      "  Downloading https://files.pythonhosted.org/packages/00/b6/9cfa56b4081ad13874b0c6f96af8ce16cfbc1cb06bedf8e9164ce5551ec1/pip-19.3.1-py2.py3-none-any.whl (1.4MB)\n",
      "\u001b[K    100% |████████████████████████████████| 1.4MB 897kB/s eta 0:00:01\n",
      "\u001b[?25hInstalling collected packages: pip\n",
      "  Found existing installation: pip 9.0.1\n",
      "    Uninstalling pip-9.0.1:\n",
      "      Successfully uninstalled pip-9.0.1\n",
      "Successfully installed pip-19.3.1\n"
     ]
    }
   ],
   "source": [
    "!python -m pip install --upgrade pip"
   ]
  },
  {
   "cell_type": "code",
   "execution_count": 2,
   "metadata": {},
   "outputs": [
    {
     "name": "stdout",
     "output_type": "stream",
     "text": [
      "Collecting mysql-connector-python\n",
      "\u001b[?25l  Downloading https://files.pythonhosted.org/packages/f7/59/c2220c52d747da492f2aed108cdf99b640b88cf89dbbe2ea13a8c04201aa/mysql_connector_python-8.0.18-cp36-cp36m-manylinux1_x86_64.whl (16.1MB)\n",
      "\u001b[K     |████████████████████████████████| 16.1MB 569kB/s eta 0:00:01    |█████                           | 2.5MB 569kB/s eta 0:00:24\n",
      "\u001b[?25hCollecting protobuf>=3.0.0\n",
      "\u001b[?25l  Downloading https://files.pythonhosted.org/packages/a8/52/d8d2dbff74b8bf517c42db8d44c3f9ef6555e6f5d6caddfa3f207b9143df/protobuf-3.10.0-cp36-cp36m-manylinux1_x86_64.whl (1.3MB)\n",
      "\u001b[K     |████████████████████████████████| 1.3MB 43.2MB/s eta 0:00:01\n",
      "\u001b[?25hRequirement already satisfied: six>=1.9 in /home/shraddha_sane/anaconda3/lib/python3.6/site-packages (from protobuf>=3.0.0->mysql-connector-python) (1.11.0)\n",
      "Requirement already satisfied: setuptools in /home/shraddha_sane/anaconda3/lib/python3.6/site-packages (from protobuf>=3.0.0->mysql-connector-python) (36.5.0.post20170921)\n",
      "Installing collected packages: protobuf, mysql-connector-python\n",
      "Successfully installed mysql-connector-python-8.0.18 protobuf-3.10.0\n"
     ]
    }
   ],
   "source": [
    "!pip install mysql-connector-python"
   ]
  },
  {
   "cell_type": "markdown",
   "metadata": {},
   "source": [
    "### Importing and establishing the connection to MySQL database"
   ]
  },
  {
   "cell_type": "code",
   "execution_count": 8,
   "metadata": {
    "collapsed": true
   },
   "outputs": [],
   "source": [
    "import mysql.connector"
   ]
  },
  {
   "cell_type": "markdown",
   "metadata": {},
   "source": [
    "### Connecting to MySQL Using Connector/Python\n",
    "The connect() constructor creates a connection to the MySQL server and returns a MySQLConnection object. The following example shows how to connect to the MySQL server:\n",
    "\n",
    "cnx = mysql.connector.connect(\n",
    "\n",
    "                              user='scott', \n",
    "                              password='password',\n",
    "                              host='127.0.0.1',\n",
    "                              database='employees'\n",
    "                              )\n",
    "cnx.close()"
   ]
  },
  {
   "cell_type": "code",
   "execution_count": 9,
   "metadata": {
    "collapsed": true
   },
   "outputs": [],
   "source": [
    "#create connection objects using the connection.MySQLConnection() class:\n",
    "cnx = mysql.connector.connect(\n",
    "                              user='demouser', \n",
    "                              password='demopassword',\n",
    "                              host='127.0.0.1',\n",
    "                              database='matomodemodatabase'\n",
    ")"
   ]
  },
  {
   "cell_type": "code",
   "execution_count": 5,
   "metadata": {
    "collapsed": true
   },
   "outputs": [],
   "source": [
    "cnx.close()"
   ]
  },
  {
   "cell_type": "markdown",
   "metadata": {},
   "source": [
    "Both forms (either using the connect() constructor or the class directly) are valid and functionally equal, but using connect() is preferred."
   ]
  },
  {
   "cell_type": "markdown",
   "metadata": {},
   "source": [
    "# Defining connection arguments in a dictionary and using the ** operator is another option:"
   ]
  },
  {
   "cell_type": "code",
   "execution_count": 11,
   "metadata": {
    "collapsed": true,
    "scrolled": true
   },
   "outputs": [],
   "source": [
    "config = {\n",
    "          'user': 'demouser',\n",
    "          'password': 'demopassword',\n",
    "          'host': '127.0.0.1',\n",
    "          'database': 'matomodemodatabase',\n",
    "          'raise_on_warnings': True\n",
    "}\n",
    "\n",
    "cnx = mysql.connector.connect(**config)\n"
   ]
  },
  {
   "cell_type": "code",
   "execution_count": 13,
   "metadata": {
    "collapsed": true
   },
   "outputs": [],
   "source": [
    "cnx.close()"
   ]
  },
  {
   "cell_type": "markdown",
   "metadata": {},
   "source": [
    "# Querying Data Using Connector/Python\n",
    "to query data using a cursor created using the connection's cursor() method. The data returned is formatted and printed on the console."
   ]
  },
  {
   "cell_type": "code",
   "execution_count": 74,
   "metadata": {
    "collapsed": true
   },
   "outputs": [],
   "source": [
    "cnx = mysql.connector.connect(**config)\n",
    "cursor = cnx.cursor()"
   ]
  },
  {
   "cell_type": "code",
   "execution_count": 75,
   "metadata": {
    "collapsed": true
   },
   "outputs": [],
   "source": [
    "query = (\"SHOW DATABASES\")\n",
    "cursor.execute(query)"
   ]
  },
  {
   "cell_type": "code",
   "execution_count": 76,
   "metadata": {},
   "outputs": [
    {
     "name": "stdout",
     "output_type": "stream",
     "text": [
      "('Database',) \n",
      "\n",
      "('information_schema',)\n",
      "('matomodemodatabase',)\n"
     ]
    }
   ],
   "source": [
    "print(cursor.column_names, '\\n')\n",
    "for elements in cursor:\n",
    "    print(elements)"
   ]
  },
  {
   "cell_type": "markdown",
   "metadata": {
    "collapsed": true
   },
   "source": [
    "# Now we will use the one of the database to print the names of the "
   ]
  },
  {
   "cell_type": "code",
   "execution_count": 78,
   "metadata": {
    "collapsed": true,
    "scrolled": true
   },
   "outputs": [],
   "source": [
    "query = (\"USE information_schema\")\n",
    "cursor.execute(query)"
   ]
  },
  {
   "cell_type": "code",
   "execution_count": 79,
   "metadata": {
    "collapsed": true
   },
   "outputs": [],
   "source": [
    "query = (\"SHOW TABLES\")\n",
    "cursor.execute(query)"
   ]
  },
  {
   "cell_type": "code",
   "execution_count": 80,
   "metadata": {},
   "outputs": [
    {
     "name": "stdout",
     "output_type": "stream",
     "text": [
      "('Tables_in_information_schema',) \n",
      "\n",
      "('CHARACTER_SETS',)\n",
      "('COLLATIONS',)\n",
      "('COLLATION_CHARACTER_SET_APPLICABILITY',)\n",
      "('COLUMNS',)\n",
      "('COLUMN_PRIVILEGES',)\n",
      "('ENGINES',)\n",
      "('EVENTS',)\n",
      "('FILES',)\n",
      "('GLOBAL_STATUS',)\n",
      "('GLOBAL_VARIABLES',)\n",
      "('KEY_COLUMN_USAGE',)\n",
      "('OPTIMIZER_TRACE',)\n",
      "('PARAMETERS',)\n",
      "('PARTITIONS',)\n",
      "('PLUGINS',)\n",
      "('PROCESSLIST',)\n",
      "('PROFILING',)\n",
      "('REFERENTIAL_CONSTRAINTS',)\n",
      "('ROUTINES',)\n",
      "('SCHEMATA',)\n",
      "('SCHEMA_PRIVILEGES',)\n",
      "('SESSION_STATUS',)\n",
      "('SESSION_VARIABLES',)\n",
      "('STATISTICS',)\n",
      "('TABLES',)\n",
      "('TABLESPACES',)\n",
      "('TABLE_CONSTRAINTS',)\n",
      "('TABLE_PRIVILEGES',)\n",
      "('TRIGGERS',)\n",
      "('USER_PRIVILEGES',)\n",
      "('VIEWS',)\n",
      "('INNODB_LOCKS',)\n",
      "('INNODB_TRX',)\n",
      "('INNODB_SYS_DATAFILES',)\n",
      "('INNODB_FT_CONFIG',)\n",
      "('INNODB_SYS_VIRTUAL',)\n",
      "('INNODB_CMP',)\n",
      "('INNODB_FT_BEING_DELETED',)\n",
      "('INNODB_CMP_RESET',)\n",
      "('INNODB_CMP_PER_INDEX',)\n",
      "('INNODB_CMPMEM_RESET',)\n",
      "('INNODB_FT_DELETED',)\n",
      "('INNODB_BUFFER_PAGE_LRU',)\n",
      "('INNODB_LOCK_WAITS',)\n",
      "('INNODB_TEMP_TABLE_INFO',)\n",
      "('INNODB_SYS_INDEXES',)\n",
      "('INNODB_SYS_TABLES',)\n",
      "('INNODB_SYS_FIELDS',)\n",
      "('INNODB_CMP_PER_INDEX_RESET',)\n",
      "('INNODB_BUFFER_PAGE',)\n",
      "('INNODB_FT_DEFAULT_STOPWORD',)\n",
      "('INNODB_FT_INDEX_TABLE',)\n",
      "('INNODB_FT_INDEX_CACHE',)\n",
      "('INNODB_SYS_TABLESPACES',)\n",
      "('INNODB_METRICS',)\n",
      "('INNODB_SYS_FOREIGN_COLS',)\n",
      "('INNODB_CMPMEM',)\n",
      "('INNODB_BUFFER_POOL_STATS',)\n",
      "('INNODB_SYS_COLUMNS',)\n",
      "('INNODB_SYS_FOREIGN',)\n",
      "('INNODB_SYS_TABLESTATS',)\n"
     ]
    }
   ],
   "source": [
    "print(cursor.column_names, '\\n')\n",
    "for elements in cursor:\n",
    "    print(elements)"
   ]
  },
  {
   "cell_type": "markdown",
   "metadata": {},
   "source": [
    "# Now we will print rows for one of from the table"
   ]
  },
  {
   "cell_type": "code",
   "execution_count": 56,
   "metadata": {
    "collapsed": true
   },
   "outputs": [],
   "source": [
    "def query_print_data(query):\n",
    "    cursor.execute(query)\n",
    "    print(cursor.column_names, '\\n')\n",
    "    for elements in cursor:\n",
    "        print(elements)"
   ]
  },
  {
   "cell_type": "code",
   "execution_count": 81,
   "metadata": {
    "scrolled": true
   },
   "outputs": [
    {
     "name": "stdout",
     "output_type": "stream",
     "text": [
      "('CHARACTER_SET_NAME', 'DEFAULT_COLLATE_NAME', 'DESCRIPTION', 'MAXLEN') \n",
      "\n",
      "('big5', 'big5_chinese_ci', 'Big5 Traditional Chinese', 2)\n",
      "('dec8', 'dec8_swedish_ci', 'DEC West European', 1)\n",
      "('cp850', 'cp850_general_ci', 'DOS West European', 1)\n",
      "('hp8', 'hp8_english_ci', 'HP West European', 1)\n",
      "('koi8r', 'koi8r_general_ci', 'KOI8-R Relcom Russian', 1)\n",
      "('latin1', 'latin1_swedish_ci', 'cp1252 West European', 1)\n",
      "('latin2', 'latin2_general_ci', 'ISO 8859-2 Central European', 1)\n",
      "('swe7', 'swe7_swedish_ci', '7bit Swedish', 1)\n",
      "('ascii', 'ascii_general_ci', 'US ASCII', 1)\n",
      "('ujis', 'ujis_japanese_ci', 'EUC-JP Japanese', 3)\n",
      "('sjis', 'sjis_japanese_ci', 'Shift-JIS Japanese', 2)\n",
      "('hebrew', 'hebrew_general_ci', 'ISO 8859-8 Hebrew', 1)\n",
      "('tis620', 'tis620_thai_ci', 'TIS620 Thai', 1)\n",
      "('euckr', 'euckr_korean_ci', 'EUC-KR Korean', 2)\n",
      "('koi8u', 'koi8u_general_ci', 'KOI8-U Ukrainian', 1)\n",
      "('gb2312', 'gb2312_chinese_ci', 'GB2312 Simplified Chinese', 2)\n",
      "('greek', 'greek_general_ci', 'ISO 8859-7 Greek', 1)\n",
      "('cp1250', 'cp1250_general_ci', 'Windows Central European', 1)\n",
      "('gbk', 'gbk_chinese_ci', 'GBK Simplified Chinese', 2)\n",
      "('latin5', 'latin5_turkish_ci', 'ISO 8859-9 Turkish', 1)\n",
      "('armscii8', 'armscii8_general_ci', 'ARMSCII-8 Armenian', 1)\n",
      "('utf8', 'utf8_general_ci', 'UTF-8 Unicode', 3)\n",
      "('ucs2', 'ucs2_general_ci', 'UCS-2 Unicode', 2)\n",
      "('cp866', 'cp866_general_ci', 'DOS Russian', 1)\n",
      "('keybcs2', 'keybcs2_general_ci', 'DOS Kamenicky Czech-Slovak', 1)\n",
      "('macce', 'macce_general_ci', 'Mac Central European', 1)\n",
      "('macroman', 'macroman_general_ci', 'Mac West European', 1)\n",
      "('cp852', 'cp852_general_ci', 'DOS Central European', 1)\n",
      "('latin7', 'latin7_general_ci', 'ISO 8859-13 Baltic', 1)\n",
      "('utf8mb4', 'utf8mb4_general_ci', 'UTF-8 Unicode', 4)\n",
      "('cp1251', 'cp1251_general_ci', 'Windows Cyrillic', 1)\n",
      "('utf16', 'utf16_general_ci', 'UTF-16 Unicode', 4)\n",
      "('utf16le', 'utf16le_general_ci', 'UTF-16LE Unicode', 4)\n",
      "('cp1256', 'cp1256_general_ci', 'Windows Arabic', 1)\n",
      "('cp1257', 'cp1257_general_ci', 'Windows Baltic', 1)\n",
      "('utf32', 'utf32_general_ci', 'UTF-32 Unicode', 4)\n",
      "('binary', 'binary', 'Binary pseudo charset', 1)\n",
      "('geostd8', 'geostd8_general_ci', 'GEOSTD8 Georgian', 1)\n",
      "('cp932', 'cp932_japanese_ci', 'SJIS for Windows Japanese', 2)\n",
      "('eucjpms', 'eucjpms_japanese_ci', 'UJIS for Windows Japanese', 3)\n",
      "('gb18030', 'gb18030_chinese_ci', 'China National Standard GB18030', 4)\n"
     ]
    }
   ],
   "source": [
    "query = 'SELECT * FROM CHARACTER_SETS'\n",
    "query_print_data(query)"
   ]
  },
  {
   "cell_type": "code",
   "execution_count": 31,
   "metadata": {
    "collapsed": true
   },
   "outputs": [],
   "source": [
    "cursor.close()\n",
    "cnx.close()"
   ]
  }
 ],
 "metadata": {
  "kernelspec": {
   "display_name": "Python 3",
   "language": "python",
   "name": "python3"
  },
  "language_info": {
   "codemirror_mode": {
    "name": "ipython",
    "version": 3
   },
   "file_extension": ".py",
   "mimetype": "text/x-python",
   "name": "python",
   "nbconvert_exporter": "python",
   "pygments_lexer": "ipython3",
   "version": "3.6.3"
  }
 },
 "nbformat": 4,
 "nbformat_minor": 2
}
